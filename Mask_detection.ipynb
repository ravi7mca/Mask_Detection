{
 "cells": [
  {
   "cell_type": "code",
   "execution_count": 21,
   "metadata": {},
   "outputs": [
    {
     "name": "stdout",
     "output_type": "stream",
     "text": [
      "Found 3345 images belonging to 2 classes.\n",
      "Found 498 images belonging to 2 classes.\n"
     ]
    }
   ],
   "source": [
    "from keras.preprocessing.image import ImageDataGenerator\n",
    "\n",
    "train_data_path = \"train\"\n",
    "\n",
    "train_datagen = ImageDataGenerator(rescale=1./255)\n",
    "test_datagen = ImageDataGenerator(rescale=1./255)\n",
    "\n",
    "train_generator = train_datagen.flow_from_directory(train_data_path, shuffle=True, target_size=(200, 200), batch_size=20, class_mode='binary')\n",
    "\n",
    "validation_dir = r\"validation\"\n",
    "validation_generator = test_datagen.flow_from_directory(validation_dir, shuffle=True, target_size=(200, 200),\n",
    "                                                                    batch_size=20, class_mode='binary')"
   ]
  },
  {
   "cell_type": "code",
   "execution_count": 19,
   "metadata": {},
   "outputs": [
    {
     "name": "stdout",
     "output_type": "stream",
     "text": [
      "Epoch 1/25\n",
      "100/100 [==============================] - 72s 721ms/step - loss: 0.3096 - acc: 0.8594 - val_loss: 0.0383 - val_acc: 0.9477\n",
      "Epoch 2/25\n",
      "100/100 [==============================] - 71s 711ms/step - loss: 0.1491 - acc: 0.9530 - val_loss: 0.1243 - val_acc: 0.9609\n",
      "Epoch 3/25\n",
      "100/100 [==============================] - 71s 707ms/step - loss: 0.1104 - acc: 0.9673 - val_loss: 0.0701 - val_acc: 0.9630\n",
      "Epoch 4/25\n",
      "100/100 [==============================] - 71s 706ms/step - loss: 0.1116 - acc: 0.9665 - val_loss: 0.0211 - val_acc: 0.9674\n",
      "Epoch 5/25\n",
      "100/100 [==============================] - 72s 720ms/step - loss: 0.0929 - acc: 0.9703 - val_loss: 0.1001 - val_acc: 0.9554\n",
      "Epoch 6/25\n",
      "100/100 [==============================] - 70s 704ms/step - loss: 0.0816 - acc: 0.9773 - val_loss: 0.0055 - val_acc: 0.9661\n",
      "Epoch 7/25\n",
      "100/100 [==============================] - 72s 716ms/step - loss: 0.0836 - acc: 0.9750 - val_loss: 0.0363 - val_acc: 0.9694\n",
      "Epoch 8/25\n",
      "100/100 [==============================] - 70s 701ms/step - loss: 0.0683 - acc: 0.9753 - val_loss: 0.0064 - val_acc: 0.9779\n",
      "Epoch 9/25\n",
      "100/100 [==============================] - 70s 704ms/step - loss: 0.0722 - acc: 0.9790 - val_loss: 0.1897 - val_acc: 0.9732\n",
      "Epoch 10/25\n",
      "100/100 [==============================] - 70s 703ms/step - loss: 0.0662 - acc: 0.9748 - val_loss: 0.0711 - val_acc: 0.9557\n",
      "Epoch 11/25\n",
      "100/100 [==============================] - 70s 700ms/step - loss: 0.0656 - acc: 0.9785 - val_loss: 0.0083 - val_acc: 0.9592\n",
      "Epoch 12/25\n",
      "100/100 [==============================] - 70s 702ms/step - loss: 0.0481 - acc: 0.9814 - val_loss: 0.5760 - val_acc: 0.9674\n",
      "Epoch 13/25\n",
      "100/100 [==============================] - 71s 708ms/step - loss: 0.0620 - acc: 0.9760 - val_loss: 0.0235 - val_acc: 0.9753\n",
      "Epoch 14/25\n",
      "100/100 [==============================] - 70s 699ms/step - loss: 0.0408 - acc: 0.9859 - val_loss: 0.2277 - val_acc: 0.9707\n",
      "Epoch 15/25\n",
      "100/100 [==============================] - 70s 701ms/step - loss: 0.0514 - acc: 0.9804 - val_loss: 0.0927 - val_acc: 0.9805\n",
      "Epoch 16/25\n",
      "100/100 [==============================] - 71s 712ms/step - loss: 0.0488 - acc: 0.9830 - val_loss: 0.0077 - val_acc: 0.9796\n",
      "Epoch 17/25\n",
      "100/100 [==============================] - 70s 695ms/step - loss: 0.0356 - acc: 0.9864 - val_loss: 0.0061 - val_acc: 0.9674\n",
      "Epoch 18/25\n",
      "100/100 [==============================] - 70s 701ms/step - loss: 0.0474 - acc: 0.9839 - val_loss: 0.2015 - val_acc: 0.9681\n",
      "Epoch 19/25\n",
      "100/100 [==============================] - 70s 702ms/step - loss: 0.0370 - acc: 0.9870 - val_loss: 2.3591e-04 - val_acc: 0.9570\n",
      "Epoch 20/25\n",
      "100/100 [==============================] - 71s 705ms/step - loss: 0.0430 - acc: 0.9884 - val_loss: 0.4532 - val_acc: 0.9707\n",
      "Epoch 21/25\n",
      "100/100 [==============================] - 70s 699ms/step - loss: 0.0439 - acc: 0.9869 - val_loss: 0.1996 - val_acc: 0.9727\n",
      "Epoch 22/25\n",
      "100/100 [==============================] - 71s 706ms/step - loss: 0.0340 - acc: 0.9900 - val_loss: 0.0162 - val_acc: 0.9758\n",
      "Epoch 23/25\n",
      "100/100 [==============================] - 70s 704ms/step - loss: 0.0323 - acc: 0.9889 - val_loss: 8.8799e-05 - val_acc: 0.9714\n",
      "Epoch 24/25\n",
      "100/100 [==============================] - 70s 697ms/step - loss: 0.0398 - acc: 0.9859 - val_loss: 0.2247 - val_acc: 0.9809\n",
      "Epoch 25/25\n",
      "100/100 [==============================] - 71s 710ms/step - loss: 0.0364 - acc: 0.9885 - val_loss: 0.0031 - val_acc: 0.9766\n"
     ]
    }
   ],
   "source": [
    "import tensorflow as tf\n",
    "import tensorflow.keras as keras\n",
    "from keras import layers\n",
    "from keras import models\n",
    "from keras import optimizers\n",
    "#import datetime\n",
    "\n",
    "model =  models.Sequential()\n",
    "model.add(layers.Conv2D(32, (3, 3), activation='relu',padding='same', input_shape=(200, 200, 3)))\n",
    "model.add(layers.MaxPooling2D((2, 2)))\n",
    "model.add(layers.Conv2D(64, (3, 3),padding='same', activation='relu'))\n",
    "model.add(layers.MaxPooling2D((2, 2)))\n",
    "model.add(layers.Conv2D(128, (3, 3), padding='same', activation='relu'))\n",
    "model.add(layers.MaxPooling2D((2, 2)))\n",
    "model.add(layers.Conv2D(128, (3, 3), padding='same', activation='relu'))\n",
    "model.add(layers.MaxPooling2D((2, 2)))\n",
    "model.add(layers.Flatten())\n",
    "model.add(layers.Dropout(0.5))\n",
    "model.add(layers.Dense(512, activation='relu'))\n",
    "model.add(layers.Dense(1, activation='sigmoid'))\n",
    "\n",
    "#log_dir = \"logs/\" + datetime.datetime.now().strftime(\"%Y%m%d-%H%M%S\")\n",
    "#tensorboard_callback = tf.keras.callbacks.TensorBoard(log_dir=log_dir, histogram_freq=1)\n",
    "\n",
    "model.compile(loss='binary_crossentropy', optimizer= optimizers.RMSprop(lr=1e-4), metrics=['acc'])\n",
    "\n",
    "#model.fit(X_train, y_train, epochs=10, batch_size=500)\n",
    "\n",
    "history = model.fit_generator(train_generator,steps_per_epoch=100, epochs=25, validation_data=validation_generator,\n",
    "                                     validation_steps=40) # , callbacks=[tensorboard_callback])"
   ]
  },
  {
   "cell_type": "code",
   "execution_count": 20,
   "metadata": {},
   "outputs": [
    {
     "data": {
      "image/png": "[encoded data removed]",
      "text/plain": [
       "<Figure size 432x288 with 1 Axes>"
      ]
     },
     "metadata": {
      "needs_background": "light"
     },
     "output_type": "display_data"
    },
    {
     "data": {
      "image/png": "[encoded data removed]",
      "text/plain": [
       "<Figure size 432x288 with 1 Axes>"
      ]
     },
     "metadata": {
      "needs_background": "light"
     },
     "output_type": "display_data"
    }
   ],
   "source": [
    "# Displaying curves of loss and accuracy during training\n",
    "import matplotlib.pyplot as plt\n",
    "%matplotlib inline\n",
    "acc = history.history['acc']\n",
    "val_acc = history.history['val_acc']\n",
    "loss = history.history['loss']\n",
    "val_loss = history.history['val_loss']\n",
    "epochs = range(1, len(acc) + 1)\n",
    "plt.plot(epochs, acc, 'bo', label='Training acc')\n",
    "plt.plot(epochs, val_acc, 'b', label='Validation acc')\n",
    "plt.title('Training and validation accuracy')\n",
    "plt.legend()\n",
    "plt.figure()\n",
    "plt.plot(epochs, loss, 'bo', label='Training loss')\n",
    "plt.plot(epochs, val_loss, 'b', label='Validation loss')\n",
    "plt.title('Training and validation loss')\n",
    "plt.legend()\n",
    "plt.show()"
   ]
  },
  {
   "cell_type": "code",
   "execution_count": 69,
   "metadata": {},
   "outputs": [
    {
     "name": "stdout",
     "output_type": "stream",
     "text": [
      "Model: \"sequential_28\"\n",
      "_________________________________________________________________\n",
      "Layer (type)                 Output Shape              Param #   \n",
      "=================================================================\n",
      "conv2d_111 (Conv2D)          (None, 200, 200, 32)      896       \n",
      "_________________________________________________________________\n",
      "max_pooling2d_109 (MaxPoolin (None, 100, 100, 32)      0         \n",
      "_________________________________________________________________\n",
      "conv2d_112 (Conv2D)          (None, 100, 100, 64)      18496     \n",
      "_________________________________________________________________\n",
      "max_pooling2d_110 (MaxPoolin (None, 50, 50, 64)        0         \n",
      "_________________________________________________________________\n",
      "conv2d_113 (Conv2D)          (None, 50, 50, 128)       73856     \n",
      "_________________________________________________________________\n",
      "max_pooling2d_111 (MaxPoolin (None, 25, 25, 128)       0         \n",
      "_________________________________________________________________\n",
      "conv2d_114 (Conv2D)          (None, 25, 25, 128)       147584    \n",
      "_________________________________________________________________\n",
      "max_pooling2d_112 (MaxPoolin (None, 12, 12, 128)       0         \n",
      "_________________________________________________________________\n",
      "flatten_28 (Flatten)         (None, 18432)             0         \n",
      "_________________________________________________________________\n",
      "dropout_28 (Dropout)         (None, 18432)             0         \n",
      "_________________________________________________________________\n",
      "dense_55 (Dense)             (None, 512)               9437696   \n",
      "_________________________________________________________________\n",
      "dense_56 (Dense)             (None, 1)                 513       \n",
      "=================================================================\n",
      "Total params: 9,679,041\n",
      "Trainable params: 9,679,041\n",
      "Non-trainable params: 0\n",
      "_________________________________________________________________\n",
      "None\n"
     ]
    }
   ],
   "source": [
    "#results = model.evaluate(X_test, y_test)\n",
    "#results\n",
    "#history.history\n",
    "print(model.summary())"
   ]
  },
  {
   "cell_type": "code",
   "execution_count": 22,
   "metadata": {},
   "outputs": [],
   "source": [
    "model.save('Mask_on_Face_small_12_1.h5')"
   ]
  },
  {
   "cell_type": "code",
   "execution_count": 23,
   "metadata": {},
   "outputs": [],
   "source": [
    "# load the train model and test with live camera\n",
    "import numpy as np\n",
    "import cv2\n",
    "from pathlib import Path\n",
    "import os\n",
    "from tensorflow.keras import models\n",
    "\n",
    "new_model = models.load_model(r\"Mask_on_Face_small_12_1.h5\")\n",
    "\n",
    "def mask_detection(roiimage_array):\n",
    "    roiimage_array = roiimage_array.reshape((1,) + roiimage_array.shape)\n",
    "    roiimage_array = roiimage_array.astype('float32') / 255\n",
    "    conf = new_model.predict(roiimage_array)\n",
    "    return conf\n",
    "    \n",
    "# Load pre-trained model:\n",
    "net = cv2.dnn.readNetFromCaffe(\"deploy.prototxt\", \"res10_300x300_ssd_iter_140000_fp16.caffemodel\")\n",
    "\n",
    "cap = cv2.VideoCapture(0)\n",
    "\n",
    "while(True):\n",
    "    ret, frame = cap.read()\n",
    "    color_img  = cv2.cvtColor(frame, cv2.COLOR_BGR2RGB)\n",
    "\n",
    "    # Get dimensions of the input image (to be used later):\n",
    "    (h, w) = color_img.shape[:2]\n",
    "    \n",
    "    # Create 4-dimensional blob from image:\n",
    "    blob = cv2.dnn.blobFromImage(color_img, 1.0, (300, 300), [104., 117., 123.], False, False)\n",
    "\n",
    "    # Set the blob as input and obtain the detections:\n",
    "    net.setInput(blob)\n",
    "    detections = net.forward()\n",
    "\n",
    "    # Initialize the number of detected faces counter detected_faces:\n",
    "    detected_faces = 0\n",
    "            \n",
    "    # Iterate over all detections:\n",
    "    for i in range(0, detections.shape[2]):\n",
    "       \n",
    "        # Get the confidence (probability) of the current detection:\n",
    "        confidence = detections[0, 0, i, 2]\n",
    "        if confidence < 0.40:\n",
    "            continue\n",
    "                \n",
    "        # Only consider detections if confidence is greater than a fixed minimum confidence:\n",
    "        if confidence > 0.6:\n",
    "            # Increment the number of detected faces:\n",
    "            detected_faces += 1\n",
    "            # Get the coordinates of the current detection:\n",
    "            box = detections[0, 0, i, 3:7] * np.array([w, h, w, h])\n",
    "            (startX, startY, endX, endY) = box.astype(\"int\")\n",
    "            \n",
    "            roi = color_img[(startY): endY, (startX): endX]\n",
    "            roiimage = cv2.resize(roi, (200, 200))\n",
    "            #cv2.imwrite(\"dddd.jpg\", roiimage)\n",
    "            mask_conf = mask_detection(roiimage)\n",
    "            #print(mask_conf)\n",
    "            \n",
    "            text = \"\"\n",
    "            rect_color = ()\n",
    "            if(float(mask_conf) < 0.50):\n",
    "                # Draw the detection and the confidence:\n",
    "                text = \"{:.3f}%\".format(confidence * 100)\n",
    "                text += \" Mask\"\n",
    "                text_color = (255,0,0)\n",
    "                rect_color = (0,255,0)\n",
    "            else:\n",
    "                text = \"{:.3f}%\".format(confidence * 100)\n",
    "                text += \" No Mask\"\n",
    "                rect_color = (0,0,255)\n",
    "                text_color = (255,0,0)\n",
    "                \n",
    "            y = startY - 10 if startY - 10 > 10 else startY + 10\n",
    "            cv2.rectangle(frame, (startX, startY), (endX, endY), rect_color, 3)\n",
    "            cv2.putText(frame, text, (startX, y), cv2.FONT_HERSHEY_SIMPLEX, 0.9, text_color, 2)\n",
    "            \n",
    "            \n",
    "    cv2.imshow('frame',frame)\n",
    "    if cv2.waitKey(20) & 0xFF == ord('q'):\n",
    "        break\n",
    "\n",
    "# When everything done, release the capture\n",
    "cap.release()\n",
    "cv2.destroyAllWindows()"
   ]
  },
  {
   "cell_type": "code",
   "execution_count": 31,
   "metadata": {},
   "outputs": [],
   "source": [
    "# load the train model and test with live camera with YOLO\n"
   ]
  },
  {
   "cell_type": "code",
   "execution_count": null,
   "metadata": {},
   "outputs": [],
   "source": []
  }
 ],
 "metadata": {
  "kernelspec": {
   "display_name": "Python 3",
   "language": "python",
   "name": "python3"
  },
  "language_info": {
   "codemirror_mode": {
    "name": "ipython",
    "version": 3
   },
   "file_extension": ".py",
   "mimetype": "text/x-python",
   "name": "python",
   "nbconvert_exporter": "python",
   "pygments_lexer": "ipython3",
   "version": "3.7.4"
  }
 },
 "nbformat": 4,
 "nbformat_minor": 2
}
